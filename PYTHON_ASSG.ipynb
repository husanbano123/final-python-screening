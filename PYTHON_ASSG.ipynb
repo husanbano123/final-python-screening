{
 "cells": [
  {
   "cell_type": "code",
   "execution_count": 1,
   "id": "6b8d410c",
   "metadata": {},
   "outputs": [],
   "source": [
    "#create in the  file\n",
    "f= open(\"sample.txt\",\"w\") "
   ]
  },
  {
   "cell_type": "code",
   "execution_count": 2,
   "id": "99ecdafe",
   "metadata": {},
   "outputs": [
    {
     "name": "stdout",
     "output_type": "stream",
     "text": [
      " Volume in drive F is New Volume\n",
      " Volume Serial Number is F2C7-816B\n",
      "\n",
      " Directory of F:\\oops\n",
      "\n",
      "06/21/2022  08:03 PM    <DIR>          .\n",
      "06/21/2022  08:03 PM    <DIR>          ..\n",
      "06/20/2022  12:44 PM    <DIR>          .ipynb_checkpoints\n",
      "06/08/2022  10:02 PM    <DIR>          assg\n",
      "06/12/2022  10:37 PM            23,122 for and while loop,list.ipynb\n",
      "06/16/2022  03:45 PM            24,835 list manipulation'.ipynb\n",
      "06/21/2022  11:20 AM             4,257 program assg 1.ipynb\n",
      "06/20/2022  12:34 PM            25,715 python basic.ipynb\n",
      "06/21/2022  08:03 PM             9,540 PYTHON_SCREENING_ASSG.ipynb\n",
      "06/21/2022  08:05 PM                 0 sample.txt\n",
      "06/16/2022  12:21 PM            19,202 string manipulation.ipynb\n",
      "06/21/2022  04:45 PM            65,706 tuples,set,dict.ipynb\n",
      "06/08/2022  11:23 AM             1,434 Untitled.ipynb\n",
      "06/08/2022  04:53 PM                72 Untitled1.ipynb\n",
      "06/16/2022  11:07 AM               588 Untitled2.ipynb\n",
      "              11 File(s)        174,471 bytes\n",
      "               4 Dir(s)  309,000,962,048 bytes free\n"
     ]
    }
   ],
   "source": [
    "ls"
   ]
  },
  {
   "cell_type": "code",
   "execution_count": 3,
   "id": "4e0c6f3d",
   "metadata": {},
   "outputs": [],
   "source": [
    "f=open('sample.txt',\"w\")"
   ]
  },
  {
   "cell_type": "code",
   "execution_count": 4,
   "id": "6952076b",
   "metadata": {},
   "outputs": [
    {
     "data": {
      "text/plain": [
       "28"
      ]
     },
     "execution_count": 4,
     "metadata": {},
     "output_type": "execute_result"
    }
   ],
   "source": [
    "f.write(\"This is placement assignment\")"
   ]
  },
  {
   "cell_type": "code",
   "execution_count": 5,
   "id": "278a3187",
   "metadata": {},
   "outputs": [],
   "source": [
    "f.close()"
   ]
  },
  {
   "cell_type": "code",
   "execution_count": 6,
   "id": "d88af538",
   "metadata": {},
   "outputs": [
    {
     "name": "stdout",
     "output_type": "stream",
     "text": [
      "This is placement assignment\n"
     ]
    }
   ],
   "source": [
    "#read file\n",
    "f=open('sample.txt')\n",
    "data=f.read()\n",
    "print(data)"
   ]
  },
  {
   "cell_type": "code",
   "execution_count": 7,
   "id": "a57702e2",
   "metadata": {},
   "outputs": [],
   "source": [
    "#replace the target string\n",
    "data=data.replace('placement','screening')"
   ]
  },
  {
   "cell_type": "code",
   "execution_count": 8,
   "id": "c824b78b",
   "metadata": {},
   "outputs": [],
   "source": [
    "f.close()"
   ]
  },
  {
   "cell_type": "code",
   "execution_count": 9,
   "id": "aefe81f6",
   "metadata": {},
   "outputs": [],
   "source": [
    "f=open('sample.txt',\"w\")"
   ]
  },
  {
   "cell_type": "code",
   "execution_count": 10,
   "id": "546418b7",
   "metadata": {},
   "outputs": [
    {
     "data": {
      "text/plain": [
       "28"
      ]
     },
     "execution_count": 10,
     "metadata": {},
     "output_type": "execute_result"
    }
   ],
   "source": [
    "f.write(data)"
   ]
  },
  {
   "cell_type": "code",
   "execution_count": 11,
   "id": "2af4088f",
   "metadata": {},
   "outputs": [],
   "source": [
    "f.close()"
   ]
  },
  {
   "cell_type": "code",
   "execution_count": 12,
   "id": "81a4988f",
   "metadata": {},
   "outputs": [
    {
     "data": {
      "text/plain": [
       "'This is screening assignment'"
      ]
     },
     "execution_count": 12,
     "metadata": {},
     "output_type": "execute_result"
    }
   ],
   "source": [
    "#replace the file content\n",
    "f=open('sample.txt')\n",
    "f.read()"
   ]
  },
  {
   "cell_type": "code",
   "execution_count": 13,
   "id": "7924e623",
   "metadata": {},
   "outputs": [],
   "source": [
    "f.close()"
   ]
  },
  {
   "cell_type": "markdown",
   "id": "9fcb94de",
   "metadata": {},
   "source": [
    "# Abstract Class\n",
    "Abstraction in Python is the process of hiding the real implementation of an application from the user and emphasizing only on usage of it. \n",
    "eg.consider you have bought a new electronic gadget. Along with the gadget, you get a user guide, instructing how to use the application, but this user guide has no info regarding the internal working of the gadget."
   ]
  },
  {
   "cell_type": "code",
   "execution_count": 14,
   "id": "10ee7a36",
   "metadata": {},
   "outputs": [
    {
     "name": "stdout",
     "output_type": "stream",
     "text": [
      "solving bugs\n",
      "EXECUTE!\n"
     ]
    }
   ],
   "source": [
    "from abc import ABC,abstractmethod\n",
    "class Computer(ABC):\n",
    "    @abstractmethod\n",
    "    def process(self):\n",
    "        pass\n",
    "class laptop(Computer):\n",
    "    def process(self):\n",
    "        print(\"EXECUTE!\")\n",
    "class whiteboard(Computer):\n",
    "    def write(self):\n",
    "        print(\"WRITING\")\n",
    "class programmer:\n",
    "    def work(self,com):\n",
    "        print(\"solving bugs\")\n",
    "        com.process()\n",
    "#com1=Computer() \n",
    "com1=laptop()\n",
    "#com2=whiteboard()\n",
    "\n",
    "prog1=programmer()\n",
    "prog1.work(com1)\n",
    "#com2.process()\n",
    "\n",
    "        \n",
    "        "
   ]
  },
  {
   "cell_type": "markdown",
   "id": "ffa6025a",
   "metadata": {},
   "source": [
    "# Multiple Inheritance\n",
    "It is a feature of some object-oriented computer programming languages in which an object or class can inherit features from more than one parent object or parent class."
   ]
  },
  {
   "cell_type": "code",
   "execution_count": 15,
   "id": "3f9105d3",
   "metadata": {},
   "outputs": [
    {
     "name": "stdout",
     "output_type": "stream",
     "text": [
      "multi_task\n",
      "Name:ineuron\n"
     ]
    }
   ],
   "source": [
    "#multiple inheritance\n",
    "class Ineuron:\n",
    "    comapny_website='htps://ineuron.ai/'\n",
    "    name='ineuron'\n",
    "class OS:\n",
    "    multi_task=True\n",
    "    os_name='Windows_OS'\n",
    "    name=\"husna\"\n",
    "\n",
    "class windows(Ineuron,OS):\n",
    "    def __init__(self):\n",
    "        if self.multi_task is True:\n",
    "            print('multi_task')\n",
    "        print('Name:{}'.format(self.name))\n",
    "        \n",
    "windows=windows()"
   ]
  },
  {
   "cell_type": "markdown",
   "id": "aa617d05",
   "metadata": {},
   "source": [
    "# Decorator\n",
    " it allows programmers to modify the behaviour of a function or class. Decorators allow us to wrap another function in order to extend the behaviour of the wrapped function, without permanently modifying it. But before diving deep into decorators let us understand some concepts that will come in handy in learning the decorators."
   ]
  },
  {
   "cell_type": "code",
   "execution_count": 16,
   "id": "6fab3e30",
   "metadata": {},
   "outputs": [
    {
     "name": "stdout",
     "output_type": "stream",
     "text": [
      "Hello, this is before function execution\n",
      "This is inside the function !!\n",
      "This is after function execution\n"
     ]
    }
   ],
   "source": [
    "def hello_decorator(func):\n",
    "    def inner1():\n",
    "        print(\"Hello, this is before function execution\")\n",
    "        \n",
    "        func()\n",
    " \n",
    "        print(\"This is after function execution\")\n",
    "         \n",
    "    return inner1\n",
    " \n",
    "def function_to_be_used():\n",
    "    print(\"This is inside the function !!\")\n",
    "function_to_be_used = hello_decorator(function_to_be_used)\n",
    " \n",
    "function_to_be_used()"
   ]
  },
  {
   "cell_type": "code",
   "execution_count": null,
   "id": "df39c4ee",
   "metadata": {},
   "outputs": [],
   "source": []
  }
 ],
 "metadata": {
  "kernelspec": {
   "display_name": "Python 3 (ipykernel)",
   "language": "python",
   "name": "python3"
  },
  "language_info": {
   "codemirror_mode": {
    "name": "ipython",
    "version": 3
   },
   "file_extension": ".py",
   "mimetype": "text/x-python",
   "name": "python",
   "nbconvert_exporter": "python",
   "pygments_lexer": "ipython3",
   "version": "3.9.7"
  }
 },
 "nbformat": 4,
 "nbformat_minor": 5
}
